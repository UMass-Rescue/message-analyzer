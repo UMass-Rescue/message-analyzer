{
 "cells": [
  {
   "cell_type": "code",
   "execution_count": 1,
   "id": "c385d614",
   "metadata": {},
   "outputs": [],
   "source": [
    "import pandas as pd\n",
    "import random\n",
    "from datetime import datetime, timedelta"
   ]
  },
  {
   "cell_type": "code",
   "execution_count": 2,
   "id": "deee28c8",
   "metadata": {},
   "outputs": [],
   "source": [
    "# Read the .txt file\n",
    "with open('human_chat.txt', 'r') as file:\n",
    "    lines = file.readlines()"
   ]
  },
  {
   "cell_type": "code",
   "execution_count": 3,
   "id": "7cd2f865",
   "metadata": {},
   "outputs": [],
   "source": [
    "# Initialize lists for new columns\n",
    "users = []\n",
    "messages = []\n",
    "timestamps = []"
   ]
  },
  {
   "cell_type": "code",
   "execution_count": 5,
   "id": "45564006",
   "metadata": {},
   "outputs": [],
   "source": [
    "# Start with an initial date and time\n",
    "current_date = datetime.now()\n",
    "last_was_greeting = False  # Track if the last message was a greeting\n",
    "\n",
    "# Define a set of greetings\n",
    "greetings = {'hi', 'hello', 'hey', 'sup', 'howdy'}\n",
    "\n",
    "# Loop through the conversation lines\n",
    "for i, line in enumerate(lines):\n",
    "    line = line.strip()\n",
    "    if 'Human 1:' in line:\n",
    "        users.append('User1')\n",
    "        messages.append(line.replace('Human 1: ', '').strip())\n",
    "        \n",
    "        # Check for greetings\n",
    "        if any(greeting in line.lower() for greeting in greetings):\n",
    "            if last_was_greeting:\n",
    "                # If the last was also a greeting, keep the same date\n",
    "                timestamps.append(current_date.strftime('%Y-%m-%d %H:%M:%S'))\n",
    "            else:\n",
    "                # Change the date if it's a new greeting\n",
    "                current_date = current_date.replace(hour=random.randint(0, 23), minute=random.randint(0, 59))\n",
    "                timestamps.append(current_date.strftime('%Y-%m-%d %H:%M:%S'))\n",
    "                last_was_greeting = True  # Set the flag for the next message\n",
    "        else:\n",
    "            timestamps.append(current_date.strftime('%Y-%m-%d %H:%M:%S'))\n",
    "            last_was_greeting = False  # Reset the flag if it's not a greeting\n",
    "\n",
    "        # Increment time by a random number of minutes (1 to 300)\n",
    "        current_date += timedelta(minutes=random.randint(1, 300))\n",
    "\n",
    "    elif 'Human 2:' in line:\n",
    "        users.append('User2')\n",
    "        messages.append(line.replace('Human 2: ', '').strip())\n",
    "        \n",
    "        # Check for greetings\n",
    "        if any(greeting in line.lower() for greeting in greetings):\n",
    "            if last_was_greeting:\n",
    "                # Keep the same date for consecutive greetings\n",
    "                timestamps.append(current_date.strftime('%Y-%m-%d %H:%M:%S'))\n",
    "            else:\n",
    "                # Change the date if it's a new greeting\n",
    "                current_date = current_date.replace(hour=random.randint(0, 23), minute=random.randint(0, 59))\n",
    "                timestamps.append(current_date.strftime('%Y-%m-%d %H:%M:%S'))\n",
    "                last_was_greeting = True  # Set the flag for the next message\n",
    "        else:\n",
    "            timestamps.append(current_date.strftime('%Y-%m-%d %H:%M:%S'))\n",
    "            last_was_greeting = False  # Reset the flag if it's not a greeting\n",
    "\n",
    "        # Increment time by a random number of minutes (1 to 500)\n",
    "        current_date += timedelta(minutes=random.randint(1, 500))\n"
   ]
  },
  {
   "cell_type": "code",
   "execution_count": 8,
   "id": "c087ed78",
   "metadata": {},
   "outputs": [],
   "source": [
    "# Create a new DataFrame\n",
    "structured_df = pd.DataFrame({\n",
    "    'User': users,\n",
    "    'Message': messages,\n",
    "    'Timestamp': timestamps\n",
    "})\n",
    "\n",
    "file_path = 'structured_conversations.csv'\n",
    "\n",
    "# Save to a new CSV file\n",
    "structured_df.to_csv(file_path, index=False)"
   ]
  }
 ],
 "metadata": {
  "kernelspec": {
   "display_name": "Python 3 (ipykernel)",
   "language": "python",
   "name": "python3"
  },
  "language_info": {
   "codemirror_mode": {
    "name": "ipython",
    "version": 3
   },
   "file_extension": ".py",
   "mimetype": "text/x-python",
   "name": "python",
   "nbconvert_exporter": "python",
   "pygments_lexer": "ipython3",
   "version": "3.7.9"
  }
 },
 "nbformat": 4,
 "nbformat_minor": 5
}
